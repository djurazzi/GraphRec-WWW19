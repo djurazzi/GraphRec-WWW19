{
  "nbformat": 4,
  "nbformat_minor": 0,
  "metadata": {
    "colab": {
      "provenance": []
    },
    "kernelspec": {
      "name": "python3",
      "display_name": "Python 3"
    },
    "language_info": {
      "name": "python"
    }
  },
  "cells": [
    {
      "cell_type": "code",
      "execution_count": 289,
      "metadata": {
        "id": "vEbJiU50khWn"
      },
      "outputs": [],
      "source": [
        "import pickle\n",
        "import scipy.io as scio\n",
        "import scipy.sparse as sp\n",
        "import random\n",
        "from collections import defaultdict\n",
        "import numpy as np"
      ]
    },
    {
      "cell_type": "code",
      "source": [
        "ciao_ratings_mat = scio.loadmat(f\"./sample_data/ciao/rating.mat\")[\"rating\"]\n",
        "ciao_trustnetwork_mat = scio.loadmat(f\"./sample_data/ciao/trustnetwork.mat\")[\"trustnetwork\"]\n",
        "epinions_ratings_mat = scio.loadmat(f\"./sample_data/epinions/rating.mat\")[\"rating\"]\n",
        "epinions_trustnetwork_mat = scio.loadmat(f\"./sample_data/epinions/trustnetwork.mat\")[\"trustnetwork\"]\n",
        "history_u_lists, history_ur_lists, history_v_lists, history_vr_lists, train_u, train_v, train_r, test_u, test_v, test_r, social_adj_lists, ratings_list = pickle.load(open(f\"./sample_data/toy_dataset.pickle\", 'rb'))"
      ],
      "metadata": {
        "id": "eXxRHpqplY0J"
      },
      "execution_count": 290,
      "outputs": []
    },
    {
      "cell_type": "markdown",
      "source": [
        "# Toy dataset"
      ],
      "metadata": {
        "id": "qgW5TDRqmGJQ"
      }
    },
    {
      "cell_type": "code",
      "source": [
        "# Check for 0 values\n",
        "print(set(train_r + test_r))"
      ],
      "metadata": {
        "colab": {
          "base_uri": "https://localhost:8080/"
        },
        "id": "HIO3AMsPlgzQ",
        "outputId": "8099e986-7244-4ca2-c981-4ced08025702"
      },
      "execution_count": 291,
      "outputs": [
        {
          "output_type": "stream",
          "name": "stdout",
          "text": [
            "{0.5, 1.0, 2.5, 2.0, 3.0, 4.0, 3.5, 1.5}\n"
          ]
        }
      ]
    },
    {
      "cell_type": "code",
      "source": [
        "# Check for duplicates\n",
        "# Zip the two lists\n",
        "zipped_lists = list(zip(train_u + test_u, train_v + test_v))\n",
        "\n",
        "# Check for duplicates\n",
        "if len(zipped_lists) != len(set(zipped_lists)):\n",
        "    print(\"There are duplicates!\")\n",
        "else:\n",
        "    print(\"No duplicates found!\")"
      ],
      "metadata": {
        "colab": {
          "base_uri": "https://localhost:8080/"
        },
        "id": "YdARJjadmg_h",
        "outputId": "461d73b4-c46d-4214-df33-8c6cfa1db1d8"
      },
      "execution_count": 292,
      "outputs": [
        {
          "output_type": "stream",
          "name": "stdout",
          "text": [
            "No duplicates found!\n"
          ]
        }
      ]
    },
    {
      "cell_type": "code",
      "source": [
        "# Check if undirected connections\n",
        "users_with_connections = set()\n",
        "is_undirected = True\n",
        "for source in social_adj_lists:\n",
        "  users_with_connections.add(source)\n",
        "  for target in social_adj_lists[source]:\n",
        "    users_with_connections.add(target)\n",
        "    if source not in social_adj_lists[target]:\n",
        "      is_undirected = False\n",
        "print(f'Undirected: {is_undirected}')"
      ],
      "metadata": {
        "colab": {
          "base_uri": "https://localhost:8080/"
        },
        "id": "718_6Aebm-sr",
        "outputId": "b6547047-1500-4733-ddae-505d8290838b"
      },
      "execution_count": 293,
      "outputs": [
        {
          "output_type": "stream",
          "name": "stdout",
          "text": [
            "Undirected: True\n"
          ]
        }
      ]
    },
    {
      "cell_type": "code",
      "source": [
        "# Check if users with ratings but no connections\n",
        "users_with_ratings = set(history_u_lists.keys())\n",
        "difference = users_with_ratings - users_with_connections\n",
        "\n",
        "print(\"Users with ratings but no connections:\", difference)"
      ],
      "metadata": {
        "colab": {
          "base_uri": "https://localhost:8080/"
        },
        "id": "MFbv86NPoAko",
        "outputId": "23da0105-b76a-49ba-9997-064569fa7994"
      },
      "execution_count": 294,
      "outputs": [
        {
          "output_type": "stream",
          "name": "stdout",
          "text": [
            "Users with ratings but no connections: set()\n"
          ]
        }
      ]
    },
    {
      "cell_type": "code",
      "source": [
        "# Check if users with connections but no ratings\n",
        "users_with_ratings = set(history_u_lists.keys())\n",
        "difference = users_with_ratings - users_with_connections\n",
        "\n",
        "print(\"Users with ratings but no connections:\", difference)"
      ],
      "metadata": {
        "colab": {
          "base_uri": "https://localhost:8080/"
        },
        "id": "mgjUaSXFod5w",
        "outputId": "365d1965-da5e-480e-f787-a0eb6397491f"
      },
      "execution_count": 295,
      "outputs": [
        {
          "output_type": "stream",
          "name": "stdout",
          "text": [
            "Users with ratings but no connections: set()\n"
          ]
        }
      ]
    },
    {
      "cell_type": "code",
      "source": [
        "# Check if users in test_u but not in train_u\n",
        "# Convert lists to sets\n",
        "train_set = set(train_u)\n",
        "test_set = set(test_u)\n",
        "\n",
        "# Find users that are in test_u but not in train_u\n",
        "missing_users = test_set - train_set\n",
        "\n",
        "print(\"Users in test_u but not in train_u:\", missing_users)"
      ],
      "metadata": {
        "colab": {
          "base_uri": "https://localhost:8080/"
        },
        "id": "caTfqLBhpAhD",
        "outputId": "b409624b-d59a-42c2-95fe-ef02caa90e6e"
      },
      "execution_count": 296,
      "outputs": [
        {
          "output_type": "stream",
          "name": "stdout",
          "text": [
            "Users in test_u but not in train_u: set()\n"
          ]
        }
      ]
    },
    {
      "cell_type": "code",
      "source": [
        "# Check if items in test_v but not in train_v\n",
        "# Convert lists to sets\n",
        "train_set = set(train_v)\n",
        "test_set = set(test_v)\n",
        "\n",
        "# Find users that are in test_u but not in train_u\n",
        "missing_items = test_set - train_set\n",
        "\n",
        "print(\"Items in test_v but not in train_v:\", missing_items)"
      ],
      "metadata": {
        "colab": {
          "base_uri": "https://localhost:8080/"
        },
        "id": "Os8SsA3npHRf",
        "outputId": "b7e8047f-e897-42fd-c338-b04e3067581b"
      },
      "execution_count": 297,
      "outputs": [
        {
          "output_type": "stream",
          "name": "stdout",
          "text": [
            "Items in test_v but not in train_v: set()\n"
          ]
        }
      ]
    },
    {
      "cell_type": "code",
      "source": [
        "# Check for empty user and item profiles\n",
        "empty_user_profiles = False\n",
        "for user_id in history_u_lists:\n",
        "  if len(history_u_lists[user_id]) == 0:\n",
        "    empty_user_profiles = True\n",
        "\n",
        "empty_item_profiles = False\n",
        "for item_id in history_v_lists:\n",
        "  if len(history_v_lists[item_id]) == 0:\n",
        "    empty_item_profiles = True\n",
        "\n",
        "print(f'{empty_user_profiles} {empty_item_profiles}')"
      ],
      "metadata": {
        "colab": {
          "base_uri": "https://localhost:8080/"
        },
        "id": "9p_memXYqGuO",
        "outputId": "e7a18ea5-95d6-4cd9-f90a-4a09d556c6b9"
      },
      "execution_count": 298,
      "outputs": [
        {
          "output_type": "stream",
          "name": "stdout",
          "text": [
            "False False\n"
          ]
        }
      ]
    },
    {
      "cell_type": "markdown",
      "source": [
        "# Epinions"
      ],
      "metadata": {
        "id": "_RiiF5Zrugx6"
      }
    },
    {
      "cell_type": "code",
      "source": [
        "epinions_ratings_mat"
      ],
      "metadata": {
        "colab": {
          "base_uri": "https://localhost:8080/"
        },
        "id": "gGq3VLHLqd1D",
        "outputId": "f8c9ac9b-31f1-49ff-b8b4-ddc1b736e1ba"
      },
      "execution_count": 299,
      "outputs": [
        {
          "output_type": "execute_result",
          "data": {
            "text/plain": [
              "array([[    1,     1,     3,     2],\n",
              "       [    1,     2,     2,     2],\n",
              "       [    1,     3,     3,     2],\n",
              "       ...,\n",
              "       [22166, 43538,     5,     5],\n",
              "       [22166, 38711,     3,     4],\n",
              "       [22166, 41790,     5,     3]], dtype=int32)"
            ]
          },
          "metadata": {},
          "execution_count": 299
        }
      ]
    },
    {
      "cell_type": "code",
      "source": [
        "epinions_trustnetwork_mat"
      ],
      "metadata": {
        "colab": {
          "base_uri": "https://localhost:8080/"
        },
        "id": "mGiGWAmBvlwI",
        "outputId": "fec92584-6ca4-4ddb-eaef-13aa862b93eb"
      },
      "execution_count": 300,
      "outputs": [
        {
          "output_type": "execute_result",
          "data": {
            "text/plain": [
              "array([[15373,  9831],\n",
              "       [ 4247,  9831],\n",
              "       [ 4644,  9831],\n",
              "       ...,\n",
              "       [13181, 15645],\n",
              "       [  897,  8000],\n",
              "       [ 8000,   897]], dtype=uint16)"
            ]
          },
          "metadata": {},
          "execution_count": 300
        }
      ]
    },
    {
      "cell_type": "code",
      "source": [
        "epinions_users = epinions_ratings_mat[:, 0]\n",
        "epinions_items = epinions_ratings_mat[:, 1]\n",
        "epinions_ratings = epinions_ratings_mat[:, 3]\n",
        "epinions_source = epinions_trustnetwork_mat[:, 0]\n",
        "epinions_target = epinions_trustnetwork_mat[:, 1]\n",
        "users_to_remove = []"
      ],
      "metadata": {
        "id": "Qta-p3CGumoE"
      },
      "execution_count": 301,
      "outputs": []
    },
    {
      "cell_type": "code",
      "source": [
        "# Check for 0 values\n",
        "print(set(epinions_ratings))"
      ],
      "metadata": {
        "colab": {
          "base_uri": "https://localhost:8080/"
        },
        "id": "2pKIvZCau8Pn",
        "outputId": "1b629ca2-5cb7-4964-f018-f39460f9649e"
      },
      "execution_count": 302,
      "outputs": [
        {
          "output_type": "stream",
          "name": "stdout",
          "text": [
            "{1, 2, 3, 4, 5}\n"
          ]
        }
      ]
    },
    {
      "cell_type": "code",
      "source": [
        "# Check for duplicates\n",
        "# Zip the two lists\n",
        "zipped_lists = list(zip(epinions_users, epinions_items))\n",
        "\n",
        "# Check for duplicates\n",
        "if len(zipped_lists) != len(set(zipped_lists)):\n",
        "    print(f\"There are {len(zipped_lists) - len(set(zipped_lists))} duplicates!\")\n",
        "else:\n",
        "    print(\"No duplicates found!\")"
      ],
      "metadata": {
        "colab": {
          "base_uri": "https://localhost:8080/"
        },
        "id": "vaNxAuSEu9Ar",
        "outputId": "7e44bdc7-7b59-4e3b-d247-e0b7651956ea"
      },
      "execution_count": 303,
      "outputs": [
        {
          "output_type": "stream",
          "name": "stdout",
          "text": [
            "There are 9826 duplicates!\n"
          ]
        }
      ]
    },
    {
      "cell_type": "code",
      "source": [
        "# Check if users with ratings but no connections\n",
        "users_with_ratings = set(epinions_users)\n",
        "users_with_connections = set(list(epinions_source) + list(epinions_target))\n",
        "difference = users_with_ratings - users_with_connections\n",
        "users_to_remove.extend(list(difference))\n",
        "print(\"Users with ratings but no connections:\", len(difference))"
      ],
      "metadata": {
        "colab": {
          "base_uri": "https://localhost:8080/"
        },
        "id": "gjoweQQGv2Jn",
        "outputId": "c4d256c9-0b7e-4496-bf6e-d80cf4897ae6"
      },
      "execution_count": 304,
      "outputs": [
        {
          "output_type": "stream",
          "name": "stdout",
          "text": [
            "Users with ratings but no connections: 4067\n"
          ]
        }
      ]
    },
    {
      "cell_type": "code",
      "source": [
        "# Check if users with connections but no ratings\n",
        "difference = users_with_connections - users_with_ratings\n",
        "users_to_remove.extend(list(difference))\n",
        "print(\"Users with connections but no ratings:\", len(difference))"
      ],
      "metadata": {
        "colab": {
          "base_uri": "https://localhost:8080/"
        },
        "id": "4bjwe9liwhlO",
        "outputId": "9242d8cc-5e0f-4f03-db43-7fbbfdac0e8b"
      },
      "execution_count": 305,
      "outputs": [
        {
          "output_type": "stream",
          "name": "stdout",
          "text": [
            "Users with connections but no ratings: 1\n"
          ]
        }
      ]
    },
    {
      "cell_type": "code",
      "source": [
        "# Check if undirected connections\n",
        "users_with_connections = set()\n",
        "is_undirected = True\n",
        "zipped_list = list(zip(epinions_source, epinions_target))\n",
        "for entry in zipped_list:\n",
        "  print(entry)\n",
        "  if (entry[1], entry[0]) not in zipped_list:\n",
        "    is_undirected = False\n",
        "    break\n",
        "print(f'Undirected: {is_undirected}')"
      ],
      "metadata": {
        "colab": {
          "base_uri": "https://localhost:8080/"
        },
        "id": "MbLIRRPHwrdu",
        "outputId": "8712c76a-8fef-4448-ba48-58b31f5fe84a"
      },
      "execution_count": 306,
      "outputs": [
        {
          "output_type": "stream",
          "name": "stdout",
          "text": [
            "(15373, 9831)\n",
            "Undirected: False\n"
          ]
        }
      ]
    },
    {
      "cell_type": "code",
      "source": [
        "zipped_ratings = list(zip(list(epinions_users), list(epinions_items), list(epinions_ratings)))\n",
        "print(len(zipped_ratings))\n",
        "# Remove zeros\n",
        "filtered_ratings = [(user, item, rating) for user, item, rating in zipped_ratings if rating != 0]\n",
        "user_item_pairs = [(user, item) for user, item, rating in filtered_ratings]\n",
        "print(len(user_item_pairs))\n",
        "# Remove unwanted users\n",
        "filtered_user_item_pairs = [(user, item) for user, item in user_item_pairs if user not in users_to_remove]\n",
        "filtered_ratings = [(user, item, rating) for user, item, rating in filtered_ratings if user not in users_to_remove]\n",
        "print(len(filtered_user_item_pairs))\n",
        "# Remove duplicates\n",
        "filtered_user_item_pairs = list(set(filtered_user_item_pairs))\n",
        "print(len(filtered_user_item_pairs))\n",
        "ratings_dict = {(user, item): rating for user, item, rating in filtered_ratings}\n",
        "print(len(ratings_dict))"
      ],
      "metadata": {
        "colab": {
          "base_uri": "https://localhost:8080/"
        },
        "id": "FEYfjuKh6bQ6",
        "outputId": "5d212f5a-f71c-4be3-a5c3-3fde0a31f744"
      },
      "execution_count": 307,
      "outputs": [
        {
          "output_type": "stream",
          "name": "stdout",
          "text": [
            "922267\n",
            "922267\n",
            "764693\n",
            "756678\n",
            "756678\n"
          ]
        }
      ]
    },
    {
      "cell_type": "code",
      "source": [
        "# Create a dictionary of users and their items\n",
        "user_to_items = defaultdict(list)\n",
        "for user, item in filtered_user_item_pairs:\n",
        "    user_to_items[user].append(item)\n",
        "\n",
        "train_data = []\n",
        "test_data = []\n",
        "\n",
        "# For each user, split their items 80-20\n",
        "for user, items in user_to_items.items():\n",
        "    random.shuffle(items)\n",
        "    split_idx = int(0.8 * len(items))\n",
        "    if len(items) == 1:\n",
        "      train_items = items\n",
        "      test_items = []\n",
        "    else:\n",
        "      train_items = items[:split_idx]\n",
        "      test_items = items[split_idx:]\n",
        "\n",
        "    train_data.extend([(user, item) for item in train_items])\n",
        "    test_data.extend([(user, item) for item in test_items])\n",
        "\n",
        "# Ensure that all users in the test set also appear in the train set\n",
        "assert set(user for user, _ in test_data).issubset(set(user for user, _ in train_data))\n",
        "\n",
        "# Write the training data to a file\n",
        "with open(\"epinions_filtered_ratings_train.tsv\", \"w\") as f:\n",
        "    for user, item in train_data:\n",
        "        f.write(f\"{user}\\t{item}\\n\")\n",
        "\n",
        "# Write the test data to a file\n",
        "with open(\"epinions_filtered_ratings_test.tsv\", \"w\") as f:\n",
        "    for user, item in test_data:\n",
        "        f.write(f\"{user}\\t{item}\\n\")\n",
        "\n",
        "print(len(train_data))\n",
        "print(len(test_data))"
      ],
      "metadata": {
        "colab": {
          "base_uri": "https://localhost:8080/"
        },
        "id": "NADD5rDR6cE3",
        "outputId": "fca1de38-4190-46db-c8f1-68064220b40a"
      },
      "execution_count": 308,
      "outputs": [
        {
          "output_type": "stream",
          "name": "stdout",
          "text": [
            "597820\n",
            "158858\n"
          ]
        }
      ]
    },
    {
      "cell_type": "code",
      "source": [
        "train_ratings = [(user, item, ratings_dict[(user, item)]) for user, item in train_data if (user, item) in ratings_dict]\n",
        "test_ratings = [(user, item, ratings_dict[(user, item)]) for user, item in test_data if (user, item) in ratings_dict]\n",
        "train_u = [user for user, item, rating in train_ratings]\n",
        "train_v = [item for user, item, rating in train_ratings]\n",
        "train_r = [rating for user, item, rating in train_ratings]\n",
        "\n",
        "test_u = [user for user, item, rating in test_ratings]\n",
        "test_v = [item for user, item, rating in test_ratings]\n",
        "test_r = [rating for user, item, rating in test_ratings]\n",
        "\n",
        "combined_test_data = list(zip(test_u, test_v, test_r))\n",
        "# Split the data into two equal parts\n",
        "split_index = len(combined_test_data) // 2\n",
        "test_data, valid_data = combined_test_data[:split_index], combined_test_data[split_index:]\n",
        "\n",
        "# Extract the data\n",
        "test_u = [user for user, item, rating in test_data]\n",
        "test_v = [item for user, item, rating in test_data]\n",
        "test_r = [rating for user, item, rating in test_data]\n",
        "\n",
        "valid_u = [user for user, item, rating in valid_data]\n",
        "valid_v = [item for user, item, rating in valid_data]\n",
        "valid_r = [rating for user, item, rating in valid_data]\n",
        "\n",
        "\n",
        "unique_ratings = list(set(train_r + test_r))\n",
        "unique_ratings = sorted(unique_ratings)\n",
        "ratings_list = {rating: i for i, rating in enumerate(unique_ratings)}\n",
        "\n",
        "# Initialize default dictionaries\n",
        "history_u_lists = defaultdict(list)\n",
        "history_ur_lists = defaultdict(list)\n",
        "history_v_lists = defaultdict(list)\n",
        "history_vr_lists = defaultdict(list)\n",
        "\n",
        "# Fill history_u_lists and history_ur_lists\n",
        "for u, v, r in zip(train_u, train_v, train_r):\n",
        "    history_u_lists[u].append(v)\n",
        "    history_ur_lists[u].append(ratings_list[r])\n",
        "\n",
        "# Fill history_v_lists and history_vr_lists\n",
        "for u, v, r in zip(train_u, train_v, train_r):\n",
        "    history_v_lists[v].append(u)\n",
        "    history_vr_lists[v].append(ratings_list[r])\n",
        "\n",
        "# Convert back to regular dictionaries if needed\n",
        "history_u_lists = dict(history_u_lists)\n",
        "history_ur_lists = dict(history_ur_lists)\n",
        "history_v_lists = dict(history_v_lists)\n",
        "history_vr_lists = dict(history_vr_lists)\n",
        "\n",
        "valid_users = set(history_u_lists.keys())\n",
        "filtered_network = [row for row in epinions_trustnetwork_mat if row[0] in valid_users and row[1] in valid_users]\n",
        "\n",
        "# Convert back to an array if needed\n",
        "filtered_network = np.array(filtered_network)\n",
        "filtered_network_list = filtered_network.tolist()\n",
        "\n",
        "social_adj_lists = defaultdict(list)\n",
        "\n",
        "for user_id in valid_users:\n",
        "  social_adj_lists[user_id] = []\n",
        "\n",
        "for source_user_id, target_user_id in filtered_network_list:\n",
        "    social_adj_lists[source_user_id].append(target_user_id)\n",
        "\n",
        "# Convert back to regular dictionary if needed\n",
        "social_adj_lists = dict(social_adj_lists)\n",
        "\n",
        "item_categories = {row[1]: row[2] for row in epinions_ratings_mat}\n",
        "valid_items = set(train_v + test_v)\n",
        "filtered_item_categories = {item: category for item, category in item_categories.items() if item in valid_items}\n",
        "\n",
        "# Define the data to be pickled\n",
        "pickle_data = [history_u_lists, history_ur_lists, history_v_lists, history_vr_lists, train_u, train_v, train_r, test_u, test_v, test_r, valid_u, valid_v, valid_r, social_adj_lists, ratings_list, filtered_item_categories]\n",
        "\n",
        "# Open the file in write-binary mode and dump the data\n",
        "with open('top_k_epinions.pickle', 'wb') as file:\n",
        "    pickle.dump(pickle_data, file)"
      ],
      "metadata": {
        "id": "PJ3JzThvIXcr"
      },
      "execution_count": 309,
      "outputs": []
    },
    {
      "cell_type": "markdown",
      "source": [
        "# Ciao"
      ],
      "metadata": {
        "id": "0a-tFi89x3ed"
      }
    },
    {
      "cell_type": "code",
      "source": [
        "ciao_users = ciao_ratings_mat[:, 0]\n",
        "ciao_items = ciao_ratings_mat[:, 1]\n",
        "ciao_ratings = ciao_ratings_mat[:, 3]\n",
        "ciao_source = ciao_trustnetwork_mat[:, 0]\n",
        "ciao_target = ciao_trustnetwork_mat[:, 1]\n",
        "users_to_remove = []"
      ],
      "metadata": {
        "id": "smqZVZPzxX73"
      },
      "execution_count": 310,
      "outputs": []
    },
    {
      "cell_type": "code",
      "source": [
        "# Check for 0 values\n",
        "print(set(ciao_ratings))\n",
        "print(f\"0 ratings: {list(ciao_ratings).count(0)}\")"
      ],
      "metadata": {
        "colab": {
          "base_uri": "https://localhost:8080/"
        },
        "id": "-LgIOevcxuXk",
        "outputId": "3a76f306-4b43-42c0-d89d-49fc7faf77c1"
      },
      "execution_count": 311,
      "outputs": [
        {
          "output_type": "stream",
          "name": "stdout",
          "text": [
            "{0, 1, 2, 3, 4, 5}\n",
            "0 ratings: 34\n"
          ]
        }
      ]
    },
    {
      "cell_type": "code",
      "source": [
        "# Check for duplicates\n",
        "# Zip the two lists\n",
        "zipped_lists = list(zip(ciao_users, ciao_items))\n",
        "\n",
        "# Check for duplicates\n",
        "if len(zipped_lists) != len(set(zipped_lists)):\n",
        "    print(f\"There are {len(zipped_lists) - len(set(zipped_lists))} duplicates!\")\n",
        "else:\n",
        "    print(\"No duplicates found!\")"
      ],
      "metadata": {
        "colab": {
          "base_uri": "https://localhost:8080/"
        },
        "id": "xjnj8oBsyMAg",
        "outputId": "b971ff83-b68e-439e-e88b-68138487faac"
      },
      "execution_count": 312,
      "outputs": [
        {
          "output_type": "stream",
          "name": "stdout",
          "text": [
            "There are 1436 duplicates!\n"
          ]
        }
      ]
    },
    {
      "cell_type": "code",
      "source": [
        "# Check if users with ratings but no connections\n",
        "users_with_ratings = set(ciao_users)\n",
        "users_with_connections = set(list(ciao_source) + list(ciao_target))\n",
        "difference = users_with_ratings - users_with_connections\n",
        "\n",
        "print(\"Users with ratings but no connections:\", len(difference))\n",
        "users_to_remove.extend(list(difference))"
      ],
      "metadata": {
        "colab": {
          "base_uri": "https://localhost:8080/"
        },
        "id": "uXchr8HCyeIT",
        "outputId": "1797976a-80cd-4806-ab13-746f4f8c9e3a"
      },
      "execution_count": 313,
      "outputs": [
        {
          "output_type": "stream",
          "name": "stdout",
          "text": [
            "Users with ratings but no connections: 58\n"
          ]
        }
      ]
    },
    {
      "cell_type": "code",
      "source": [
        "# Check if users with connections but no ratings\n",
        "difference = users_with_connections - users_with_ratings\n",
        "\n",
        "print(\"Users with connections but no ratings:\", len(difference))\n",
        "users_to_remove.extend(list(difference))"
      ],
      "metadata": {
        "colab": {
          "base_uri": "https://localhost:8080/"
        },
        "id": "T8yRz2SRygKb",
        "outputId": "2ba29830-fcbe-4f42-f529-f50ec7dfee50"
      },
      "execution_count": 314,
      "outputs": [
        {
          "output_type": "stream",
          "name": "stdout",
          "text": [
            "Users with connections but no ratings: 0\n"
          ]
        }
      ]
    },
    {
      "cell_type": "code",
      "source": [
        "# Check if undirected connections\n",
        "users_with_connections = set()\n",
        "is_undirected = True\n",
        "zipped_list = list(zip(ciao_source, ciao_target))\n",
        "for entry in zipped_list:\n",
        "  print(entry)\n",
        "  if (entry[1], entry[0]) not in zipped_list:\n",
        "    is_undirected = False\n",
        "    break\n",
        "print(f'Undirected: {is_undirected}')"
      ],
      "metadata": {
        "colab": {
          "base_uri": "https://localhost:8080/"
        },
        "id": "l4CG28zB2NUJ",
        "outputId": "ef079f4f-ff8c-4c8f-87dc-13e855368ceb"
      },
      "execution_count": 315,
      "outputs": [
        {
          "output_type": "stream",
          "name": "stdout",
          "text": [
            "(1, 2)\n",
            "(1, 3)\n",
            "Undirected: False\n"
          ]
        }
      ]
    },
    {
      "cell_type": "code",
      "source": [
        "zipped_ratings = list(zip(list(ciao_users), list(ciao_items), list(ciao_ratings)))\n",
        "print(len(zipped_ratings))\n",
        "# Remove zeros\n",
        "filtered_ratings = [(user, item, rating) for user, item, rating in zipped_ratings if rating != 0]\n",
        "user_item_pairs = [(user, item) for user, item, rating in filtered_ratings]\n",
        "print(len(user_item_pairs))\n",
        "# Remove unwanted users\n",
        "filtered_user_item_pairs = [(user, item) for user, item in user_item_pairs if user not in users_to_remove]\n",
        "filtered_ratings = [(user, item, rating) for user, item, rating in filtered_ratings if user not in users_to_remove]\n",
        "print(len(filtered_user_item_pairs))\n",
        "# Remove duplicates\n",
        "filtered_user_item_pairs = list(set(filtered_user_item_pairs))\n",
        "print(len(filtered_user_item_pairs))\n",
        "ratings_dict = {(user, item): rating for user, item, rating in filtered_ratings}\n",
        "print(len(ratings_dict))"
      ],
      "metadata": {
        "colab": {
          "base_uri": "https://localhost:8080/"
        },
        "id": "IZ3d0Q253Jff",
        "outputId": "68322a74-8409-4cc4-da1a-889699a6936e"
      },
      "execution_count": 316,
      "outputs": [
        {
          "output_type": "stream",
          "name": "stdout",
          "text": [
            "284086\n",
            "284052\n",
            "283286\n",
            "281867\n",
            "281867\n"
          ]
        }
      ]
    },
    {
      "cell_type": "code",
      "source": [
        "# Create a dictionary of users and their items\n",
        "user_to_items = defaultdict(list)\n",
        "for user, item in filtered_user_item_pairs:\n",
        "    user_to_items[user].append(item)\n",
        "\n",
        "train_data = []\n",
        "test_data = []\n",
        "\n",
        "# For each user, split their items 80-20\n",
        "for user, items in user_to_items.items():\n",
        "    random.shuffle(items)\n",
        "    split_idx = int(0.8 * len(items))\n",
        "    if len(items) == 1:\n",
        "      train_items = items\n",
        "      test_items = []\n",
        "    else:\n",
        "      train_items = items[:split_idx]\n",
        "      test_items = items[split_idx:]\n",
        "\n",
        "    train_data.extend([(user, item) for item in train_items])\n",
        "    test_data.extend([(user, item) for item in test_items])\n",
        "\n",
        "# Ensure that all users in the test set also appear in the train set\n",
        "assert set(user for user, _ in test_data).issubset(set(user for user, _ in train_data))\n",
        "\n",
        "# Write the training data to a file\n",
        "with open(\"ciao_filtered_ratings_train.tsv\", \"w\") as f:\n",
        "    for user, item in train_data:\n",
        "        f.write(f\"{user}\\t{item}\\n\")\n",
        "\n",
        "# Write the test data to a file\n",
        "with open(\"ciao_filtered_ratings_test.tsv\", \"w\") as f:\n",
        "    for user, item in test_data:\n",
        "        f.write(f\"{user}\\t{item}\\n\")\n",
        "\n",
        "print(len(train_data))\n",
        "print(len(test_data))"
      ],
      "metadata": {
        "colab": {
          "base_uri": "https://localhost:8080/"
        },
        "id": "s3xRkmmL4kbG",
        "outputId": "f7f6e4ec-5728-4e85-80fc-2cf6a160d406"
      },
      "execution_count": 317,
      "outputs": [
        {
          "output_type": "stream",
          "name": "stdout",
          "text": [
            "222434\n",
            "59433\n"
          ]
        }
      ]
    },
    {
      "cell_type": "code",
      "source": [
        "train_ratings = [(user, item, ratings_dict[(user, item)]) for user, item in train_data if (user, item) in ratings_dict]\n",
        "test_ratings = [(user, item, ratings_dict[(user, item)]) for user, item in test_data if (user, item) in ratings_dict]\n",
        "train_u = [user for user, item, rating in train_ratings]\n",
        "train_v = [item for user, item, rating in train_ratings]\n",
        "train_r = [rating for user, item, rating in train_ratings]\n",
        "\n",
        "test_u = [user for user, item, rating in test_ratings]\n",
        "test_v = [item for user, item, rating in test_ratings]\n",
        "test_r = [rating for user, item, rating in test_ratings]\n",
        "\n",
        "combined_test_data = list(zip(test_u, test_v, test_r))\n",
        "# Split the data into two equal parts\n",
        "split_index = len(combined_test_data) // 2\n",
        "test_data, valid_data = combined_test_data[:split_index], combined_test_data[split_index:]\n",
        "\n",
        "# Extract the data\n",
        "test_u = [user for user, item, rating in test_data]\n",
        "test_v = [item for user, item, rating in test_data]\n",
        "test_r = [rating for user, item, rating in test_data]\n",
        "\n",
        "valid_u = [user for user, item, rating in valid_data]\n",
        "valid_v = [item for user, item, rating in valid_data]\n",
        "valid_r = [rating for user, item, rating in valid_data]\n",
        "\n",
        "\n",
        "unique_ratings = list(set(train_r + test_r))\n",
        "unique_ratings = sorted(unique_ratings)\n",
        "ratings_list = {rating: i for i, rating in enumerate(unique_ratings)}\n",
        "\n",
        "# Initialize default dictionaries\n",
        "history_u_lists = defaultdict(list)\n",
        "history_ur_lists = defaultdict(list)\n",
        "history_v_lists = defaultdict(list)\n",
        "history_vr_lists = defaultdict(list)\n",
        "\n",
        "# Fill history_u_lists and history_ur_lists\n",
        "for u, v, r in zip(train_u, train_v, train_r):\n",
        "    history_u_lists[u].append(v)\n",
        "    history_ur_lists[u].append(ratings_list[r])\n",
        "\n",
        "# Fill history_v_lists and history_vr_lists\n",
        "for u, v, r in zip(train_u, train_v, train_r):\n",
        "    history_v_lists[v].append(u)\n",
        "    history_vr_lists[v].append(ratings_list[r])\n",
        "\n",
        "# Convert back to regular dictionaries if needed\n",
        "history_u_lists = dict(history_u_lists)\n",
        "history_ur_lists = dict(history_ur_lists)\n",
        "history_v_lists = dict(history_v_lists)\n",
        "history_vr_lists = dict(history_vr_lists)\n",
        "\n",
        "valid_users = set(history_u_lists.keys())\n",
        "filtered_network = [row for row in ciao_trustnetwork_mat if row[0] in valid_users and row[1] in valid_users]\n",
        "\n",
        "# Convert back to an array if needed\n",
        "filtered_network = np.array(filtered_network)\n",
        "filtered_network_list = filtered_network.tolist()\n",
        "\n",
        "social_adj_lists = defaultdict(list)\n",
        "\n",
        "for user_id in valid_users:\n",
        "  social_adj_lists[user_id] = []\n",
        "\n",
        "for source_user_id, target_user_id in filtered_network_list:\n",
        "    social_adj_lists[source_user_id].append(target_user_id)\n",
        "\n",
        "# Convert back to regular dictionary if needed\n",
        "social_adj_lists = dict(social_adj_lists)\n",
        "\n",
        "item_categories = {row[1]: row[2] for row in ciao_ratings_mat}\n",
        "valid_items = set(train_v + test_v)\n",
        "filtered_item_categories = {item: category for item, category in item_categories.items() if item in valid_items}\n",
        "\n",
        "# Define the data to be pickled\n",
        "pickle_data = [history_u_lists, history_ur_lists, history_v_lists, history_vr_lists, train_u, train_v, train_r, test_u, test_v, test_r, valid_u, valid_v, valid_r, social_adj_lists, ratings_list, filtered_item_categories]\n",
        "\n",
        "# Open the file in write-binary mode and dump the data\n",
        "with open('top_k_ciao.pickle', 'wb') as file:\n",
        "    pickle.dump(pickle_data, file)"
      ],
      "metadata": {
        "id": "4gU0kali44TF"
      },
      "execution_count": 318,
      "outputs": []
    },
    {
      "cell_type": "code",
      "source": [],
      "metadata": {
        "id": "zZoyZk0UHzZA"
      },
      "execution_count": null,
      "outputs": []
    }
  ]
}